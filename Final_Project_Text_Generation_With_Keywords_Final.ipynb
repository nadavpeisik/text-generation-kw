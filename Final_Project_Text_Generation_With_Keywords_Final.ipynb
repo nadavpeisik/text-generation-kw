{
  "nbformat": 4,
  "nbformat_minor": 0,
  "metadata": {
    "colab": {
      "name": "Final Project - Text Generation With Keywords - Final.ipynb",
      "provenance": [],
      "collapsed_sections": []
    },
    "environment": {
      "name": "pytorch-gpu.1-9.m75",
      "type": "gcloud",
      "uri": "gcr.io/deeplearning-platform-release/pytorch-gpu.1-9:m75"
    },
    "kernelspec": {
      "display_name": "Python 3",
      "language": "python",
      "name": "python3"
    },
    "language_info": {
      "codemirror_mode": {
        "name": "ipython",
        "version": 3
      },
      "file_extension": ".py",
      "mimetype": "text/x-python",
      "name": "python",
      "nbconvert_exporter": "python",
      "pygments_lexer": "ipython3",
      "version": "3.7.10"
    }
  },
  "cells": [
    {
      "cell_type": "markdown",
      "metadata": {
        "id": "id4FAGTvhAiH"
      },
      "source": [
        "Imports"
      ]
    },
    {
      "cell_type": "code",
      "metadata": {
        "id": "UyslOsl7wuP7"
      },
      "source": [
        "import torch\n",
        "import torch.nn as nn\n",
        "import torchvision\n",
        "import torchvision.transforms as transforms\n",
        "import torch.nn.functional as F\n",
        "import matplotlib.pyplot as plt\n",
        "import spacy\n",
        "import pickle\n",
        "import random"
      ],
      "execution_count": null,
      "outputs": []
    },
    {
      "cell_type": "markdown",
      "metadata": {
        "id": "AiBLJZO3g1zs"
      },
      "source": [
        "Load spacy, disable 'ner' and 'parser', keep tagger only. require GPU."
      ]
    },
    {
      "cell_type": "code",
      "metadata": {
        "colab": {
          "base_uri": "https://localhost:8080/"
        },
        "id": "e2J36n5vfykE",
        "outputId": "e64add48-1a9c-4c0b-f2d4-4f91be1a757e"
      },
      "source": [
        "nlp = spacy.load(\"en_core_web_sm\")\n",
        "nlp.disable_pipes('ner', 'parser')\n",
        "#spacy.require_gpu()"
      ],
      "execution_count": null,
      "outputs": [
        {
          "data": {
            "text/plain": [
              "[('ner', <spacy.pipeline.pipes.EntityRecognizer at 0x7f8c12f5cbb0>),\n",
              " ('parser', <spacy.pipeline.pipes.DependencyParser at 0x7f8c12f5cc90>)]"
            ]
          },
          "execution_count": 16,
          "metadata": {},
          "output_type": "execute_result"
        }
      ]
    },
    {
      "cell_type": "code",
      "metadata": {
        "colab": {
          "base_uri": "https://localhost:8080/"
        },
        "id": "E20u4zya2ovX",
        "outputId": "5303fe76-e86c-475b-a720-c74642911493"
      },
      "source": [
        "print(nlp.pipe_names)"
      ],
      "execution_count": null,
      "outputs": [
        {
          "name": "stdout",
          "output_type": "stream",
          "text": [
            "['tagger']\n"
          ]
        }
      ]
    },
    {
      "cell_type": "markdown",
      "metadata": {
        "id": "cqUzZHlYhhtd"
      },
      "source": [
        "Mount Google Drive"
      ]
    },
    {
      "cell_type": "code",
      "metadata": {
        "colab": {
          "base_uri": "https://localhost:8080/"
        },
        "id": "y4QySKGsPaOC",
        "outputId": "0c2893ea-6251-4fa9-8a09-ca246bf3d8e7"
      },
      "source": [
        "#\n",
        "from google.colab import drive\n",
        "drive.mount('/content/drive')"
      ],
      "execution_count": null,
      "outputs": [
        {
          "name": "stdout",
          "output_type": "stream",
          "text": [
            "Mounted at /content/drive\n"
          ]
        }
      ]
    },
    {
      "cell_type": "markdown",
      "metadata": {
        "id": "hef4t84QxxmU"
      },
      "source": [
        "# **Data Preprocessing**"
      ]
    },
    {
      "cell_type": "markdown",
      "metadata": {
        "id": "RWOnpqfAhshK"
      },
      "source": [
        "Read data and save as a list where each element is a tuple of lists which are: (keywords, keywords_pos, template, sentence)"
      ]
    },
    {
      "cell_type": "code",
      "metadata": {
        "id": "v7T1YCkbELQs"
      },
      "source": [
        "# fine grained pos tags\n",
        "#pos_tags = ['JJ', 'JJR', 'JJS', 'NN', 'NNS', 'NNP', 'NNPS', 'RB', 'RBR', 'RBS', \n",
        "#           'VB', 'VBD', 'VBG', 'VBN', 'VBP', 'VBZ']\n",
        "# coarse grained pos tags\n",
        "keyword_tags = ['NOUN', 'VERB', 'ADJ', 'ADV']\n",
        "def read_data(filepath):\n",
        "  data = []\n",
        "\n",
        "  with open(filepath) as f:\n",
        "    # the sentences are the labels\n",
        "    labels = [sentence[:-1] for sentence in f]\n",
        "    for doc in nlp.pipe(labels, batch_size=2000, n_process=10): \n",
        "      # templates are the POS tags of the sentence\n",
        "      template = list(map(lambda word : word.tag_, doc))\n",
        "      # sentence as list of words (sentence is the gold standard reference)\n",
        "      label = [str(token).lower() for token in doc]\n",
        "      # extract (and lemmatize) keywords\n",
        "      keywords = extract_keywords(doc)\n",
        "      # get keywords pos tags (individually)\n",
        "      keywords_pos = list(map(lambda word: extract_pos(nlp(word)), keywords))\n",
        "      data.append((keywords, keywords_pos, template, label))\n",
        "  return data"
      ],
      "execution_count": null,
      "outputs": []
    },
    {
      "cell_type": "code",
      "metadata": {
        "id": "VvHrYUpvz8a2"
      },
      "source": [
        "# Find words in a sentence whose POS tag is a noun, verb, adjective or adverb. Lemmatize and store as keyword.\n",
        "def extract_keywords(doc):\n",
        "  kw = []\n",
        "  for word in doc:\n",
        "    if word.pos_ in keyword_tags:\n",
        "      kw.append(nlp(str(word).lower())[0].lemma_)\n",
        "  return kw"
      ],
      "execution_count": null,
      "outputs": []
    },
    {
      "cell_type": "code",
      "metadata": {
        "id": "uFiuX1c5Vu3t"
      },
      "source": [
        "# Extract pos of a single word (Individually, no context)\n",
        "def extract_pos(word):\n",
        "  return word[0].pos_"
      ],
      "execution_count": null,
      "outputs": []
    },
    {
      "cell_type": "code",
      "metadata": {
        "id": "5vxqXIqKN70T"
      },
      "source": [
        "# Read data (Quotes dataset)\n",
        "train_pre = read_data('drive/MyDrive/TGP/train.txt')\n",
        "test_pre = read_data('drive/MyDrive/TGP/test.txt')\n",
        "valid_pre = read_data('drive/MyDrive/TGP/valid.txt')"
      ],
      "execution_count": null,
      "outputs": []
    },
    {
      "cell_type": "code",
      "metadata": {
        "id": "ksfA5-TH_ToH"
      },
      "source": [
        "# Save data file on Google Drive\n",
        "with open('drive/MyDrive/TGP/prepared_train_fg.txt', 'wb') as f1:\n",
        "  pickle.dump(train_pre, f1)\n",
        "with open('drive/MyDrive/TGP/prepared_test_fg.txt', 'wb') as f2:\n",
        "  pickle.dump(test_pre, f2)\n",
        "with open('drive/MyDrive/TGP/prepared_valid_fg.txt', 'wb') as f3:\n",
        "  pickle.dump(valid_pre, f3)"
      ],
      "execution_count": null,
      "outputs": []
    },
    {
      "cell_type": "code",
      "metadata": {
        "id": "XOrtNU5ZxeOy"
      },
      "source": [
        "# Define function for sorting that returns the length of the sentence as key\n",
        "def sortKey(e):\n",
        "  return len(e[3])"
      ],
      "execution_count": null,
      "outputs": []
    },
    {
      "cell_type": "code",
      "metadata": {
        "id": "XGgIIascycX0"
      },
      "source": [
        "# Sort data according to the length of a sentence\n",
        "data.sort(key=sortKey)"
      ],
      "execution_count": null,
      "outputs": []
    },
    {
      "cell_type": "code",
      "metadata": {
        "id": "5IP6LsZtN0Wl"
      },
      "source": [
        "# Add start and end of sentence tokens - \"<sos>\", \"<eos>\"\n",
        "for i, (kw, kw_pos, template, sentence) in enumerate(data):\n",
        "  template = [\"<sos>\"] + template + [\"<eos>\"]\n",
        "  # For sentence we only use the <sos> token for generation\n",
        "  sentence = [\"<sos>\"] + sentence\n",
        "  data[i] = (kw, kw_pos, template, sentence)"
      ],
      "execution_count": null,
      "outputs": []
    },
    {
      "cell_type": "markdown",
      "metadata": {
        "id": "WUpLDJX4-nKg"
      },
      "source": [
        "# **Data Loading**"
      ]
    },
    {
      "cell_type": "code",
      "metadata": {
        "id": "Zp85FUu899xE"
      },
      "source": [
        "currentFile = open('prepared_train_fg.txt', mode='rb')\n",
        "training_data = pickle.load(currentFile)"
      ],
      "execution_count": null,
      "outputs": []
    },
    {
      "cell_type": "code",
      "metadata": {
        "id": "HR3oEVnlDSB1"
      },
      "source": [
        "currentFile = open('prepared_valid_fg.txt', mode='rb')\n",
        "validation_data = pickle.load(currentFile)"
      ],
      "execution_count": null,
      "outputs": []
    },
    {
      "cell_type": "code",
      "metadata": {
        "id": "APb9JDrp7ctI"
      },
      "source": [
        "currentFile = open('prepared_test_fg.txt', mode='rb')\n",
        "test_data = pickle.load(currentFile)"
      ],
      "execution_count": null,
      "outputs": []
    },
    {
      "cell_type": "code",
      "metadata": {
        "colab": {
          "base_uri": "https://localhost:8080/"
        },
        "id": "yLR664EaEMKw",
        "outputId": "3ff02de2-f047-4de1-8090-fc0fa2c7db69"
      },
      "source": [
        "len(training_data)"
      ],
      "execution_count": null,
      "outputs": [
        {
          "data": {
            "text/plain": [
              "251096"
            ]
          },
          "execution_count": 40,
          "metadata": {},
          "output_type": "execute_result"
        }
      ]
    },
    {
      "cell_type": "code",
      "metadata": {
        "colab": {
          "base_uri": "https://localhost:8080/"
        },
        "id": "c0x-7xnKENXW",
        "outputId": "2c6793ce-b07b-46d9-84fd-ef4aeeea5b19"
      },
      "source": [
        "len(validation_data)"
      ],
      "execution_count": null,
      "outputs": [
        {
          "data": {
            "text/plain": [
              "37468"
            ]
          },
          "execution_count": 41,
          "metadata": {},
          "output_type": "execute_result"
        }
      ]
    },
    {
      "cell_type": "code",
      "metadata": {
        "id": "_OmwCxFw7ctK",
        "outputId": "9bedd6f5-eeb2-4d2c-dd68-7884496e85b0"
      },
      "source": [
        "len(test_data)"
      ],
      "execution_count": null,
      "outputs": [
        {
          "data": {
            "text/plain": [
              "31757"
            ]
          },
          "execution_count": 42,
          "metadata": {},
          "output_type": "execute_result"
        }
      ]
    },
    {
      "cell_type": "code",
      "metadata": {
        "id": "W-NL-hwWEh5j"
      },
      "source": [
        "# For GPU VRAM testing\n",
        "training_data.reverse()\n",
        "validation_data.reverse()"
      ],
      "execution_count": null,
      "outputs": []
    },
    {
      "cell_type": "markdown",
      "metadata": {
        "id": "q6jvNpn8yxSa"
      },
      "source": [
        "\n",
        "\n",
        "---\n",
        "\n"
      ]
    },
    {
      "cell_type": "markdown",
      "metadata": {
        "id": "Ke-pVhtGvD46"
      },
      "source": [
        "The following Vocab class is served as a dictionary that maps words and tags into Ids. The __unk__ token is used for words that are not part of the training data, while __pad__ token is used as padding value (0). <sos> and <eos> are start and end of sentence tokens respectively."
      ]
    },
    {
      "cell_type": "code",
      "metadata": {
        "id": "7PiO6av5xoSW"
      },
      "source": [
        "class Vocab:\n",
        "    def __init__(self):\n",
        "      self.word2id = {\"__pad__\": 0, \"__unk__\": 1, \"<sos>\": 2}\n",
        "      self.id2word = {0: \"__pad__\", 1: \"__unk__\", 2: \"<sos>\"}\n",
        "      self.n_words = 2\n",
        "        \n",
        "      self.tag2id = {\"__pad__\": 0, \"<sos>\": 1, \"<eos>\": 2, \"ADJ\":3, \"ADP\":4, \"ADV\":5, \"AUX\":6, \"CONJ\":7, \n",
        "                     \"CCONJ\":8, \"DET\":9, \"INTJ\":10, \"NOUN\":11, \"NUM\":12, \"PART\":13, \"PRON\":14, \"PROPN\":15, \n",
        "                     \"PUNCT\":16, \"SCONJ\":17, \"SYM\":18, \"VERB\":19, \"X\":20, \"SPACE\":21, \".\": 22, \",\": 23, \n",
        "                     \"-LRB-\": 24, \"-RRB-\": 25, \"``\": 26, '\"\"': 27, \"''\": 28, \":\": 29, \"$\": 30, \"#\": 31,\n",
        "                     \"AFX\": 32, \"CC\": 33, \"CD\": 34, \"DT\": 35, \"EX\": 36, \"FW\": 37, \"HYPH\": 38, \"IN\": 39, \n",
        "                     \"JJ\": 40, \"JJR\": 41, \"JJS\": 42, \"LS\": 43, \"MD\": 44, \"NIL\": 45, \"NN\": 46, \"NNP\": 47, \n",
        "                     \"NNPS\": 48, \"NNS\": 49, \"PDT\": 50, \"POS\": 51, \"PRP\": 52, \"PRP$\": 53, \"RB\": 54, \"RBR\": 55, \n",
        "                     \"RBS\": 56, \"RP\": 57, \"TO\": 58, \"UH\": 59, \"VB\": 60, \"VBD\": 61, \"VBG\": 62, \"VBN\": 63, \n",
        "                     \"VBP\": 64, \"VBZ\": 65, \"WDT\": 66, \"WP\": 67, \"WP$\": 68, \"WRB\": 69, \"SP\": 70, \"ADD\": 71, \n",
        "                     \"NFP\": 72, \"GW\": 73, \"XX\": 74, \"BES\": 75, \"HVS\": 76, \"_SP\": 77}\n",
        "      self.id2tag = {v:k for (k, v) in self.tag2id.items()}\n",
        "        \n",
        "    def index_words(self, words):\n",
        "      word_indexes = [self.index_word(w) for w in words]\n",
        "      return word_indexes\n",
        "\n",
        "    def index_tags(self, tags):\n",
        "      tag_indexes = [self.tag2id[t] for t in tags]\n",
        "      return tag_indexes\n",
        "    \n",
        "    def index_word(self, w):\n",
        "        if w not in self.word2id:\n",
        "          self.n_words += 1\n",
        "          self.word2id[w] = self.n_words\n",
        "          self.id2word[self.n_words] = w\n",
        "        return self.word2id[w]"
      ],
      "execution_count": null,
      "outputs": []
    },
    {
      "cell_type": "code",
      "metadata": {
        "id": "KSE69bNHwQSn"
      },
      "source": [
        "# Function for creating a new vocabulary from the words in the training data\n",
        "def create_vocabulary(data):\n",
        "    vocab = Vocab()\n",
        "    for (keywords, _, _, sentence) in data:\n",
        "      for token in sentence:\n",
        "        vocab.index_word(token)\n",
        "      for keyword in keywords:\n",
        "        vocab.index_word(keyword)\n",
        "      \n",
        "    return vocab"
      ],
      "execution_count": null,
      "outputs": []
    },
    {
      "cell_type": "code",
      "metadata": {
        "id": "wg0HinJ71a1c"
      },
      "source": [
        "vocab = create_vocabulary(training_data)"
      ],
      "execution_count": null,
      "outputs": []
    },
    {
      "cell_type": "code",
      "metadata": {
        "colab": {
          "base_uri": "https://localhost:8080/"
        },
        "id": "EzDFT_Smo61n",
        "outputId": "add1e20a-32fb-471d-fea7-410e361baa0d"
      },
      "source": [
        "vocab.n_words"
      ],
      "execution_count": null,
      "outputs": [
        {
          "data": {
            "text/plain": [
              "83610"
            ]
          },
          "execution_count": 9,
          "metadata": {},
          "output_type": "execute_result"
        }
      ]
    },
    {
      "cell_type": "code",
      "metadata": {
        "id": "YH8uaiGRHpHf"
      },
      "source": [
        "# For test and validation data: convert unknown words to \"__unk__\" tag\n",
        "def convert_unk(data):\n",
        "  for i, (kw, kw_pos, template, sentence) in enumerate(data):\n",
        "    new_kw = []\n",
        "    new_sentence = []\n",
        "    for keyword in kw:\n",
        "      keyword = keyword if keyword in vocab.word2id.keys() else \"__unk__\"\n",
        "      new_kw.append(keyword)\n",
        "    for word in sentence:\n",
        "      word = word if word in vocab.word2id.keys() else \"__unk__\"\n",
        "      new_sentence.append(word)\n",
        "    \n",
        "    data[i] = (new_kw, kw_pos, template, new_sentence)\n",
        "  \n",
        "  return data"
      ],
      "execution_count": null,
      "outputs": []
    },
    {
      "cell_type": "code",
      "metadata": {
        "id": "K5LAkUHsJo92"
      },
      "source": [
        "validation_data = convert_unk(validation_data)\n",
        "test_data = convert_unk(test_data)"
      ],
      "execution_count": null,
      "outputs": []
    },
    {
      "cell_type": "code",
      "metadata": {
        "id": "xazJgbqPytHT"
      },
      "source": [
        "# Use the vocabulary to convert the data from strings to integers\n",
        "def convert_data(data, vocab):\n",
        "  int_data = []\n",
        "  for (keywords, keywords_pos, template, sentence) in data:\n",
        "    int_kw = [vocab.word2id[keyword] for keyword in keywords]\n",
        "    int_kw_pos = [vocab.tag2id[keyword_pos] for keyword_pos in keywords_pos]\n",
        "    int_template = [vocab.tag2id[pos] for pos in template]\n",
        "    int_sentence = [vocab.word2id[word] for word in sentence]\n",
        "    int_data.append((int_kw, int_kw_pos, int_template, int_sentence))\n",
        "  \n",
        "  return int_data"
      ],
      "execution_count": null,
      "outputs": []
    },
    {
      "cell_type": "code",
      "metadata": {
        "id": "WwIlezaRH4xK"
      },
      "source": [
        "training_data = convert_data(training_data, vocab)\n",
        "validation_data = convert_data(validation_data, vocab)\n",
        "test_data = convert_data(test_data, vocab)"
      ],
      "execution_count": null,
      "outputs": []
    },
    {
      "cell_type": "code",
      "metadata": {
        "id": "lf7PiNN5-d0r"
      },
      "source": [
        "# Create batches and pad relevant input data\n",
        "def create_batches(data, batch_size=64):\n",
        "  # The list to store all instances and corresponding labels\n",
        "  data_batches = []\n",
        "  # Keyword batch to store in data_batches\n",
        "  kw_batch = []\n",
        "  # Keyword pos batch to store in data_batches\n",
        "  kw_pos_batch = []\n",
        "  # Template batch to store in data_batches \n",
        "  template_batch = []\n",
        "  # Store lengths of each instance in template batch for packing\n",
        "  template_len = []\n",
        "  # Sentence batch to store in data_batches\n",
        "  sentence_batch = []\n",
        "  \n",
        "  for i, (keywords, keywords_pos, template, sentence) in enumerate(data):\n",
        "    kw_batch.append(torch.LongTensor(keywords))\n",
        "    kw_pos_batch.append(torch.LongTensor(keywords_pos))\n",
        "    template_batch.append(torch.LongTensor(template))\n",
        "    template_len.append(len(template))\n",
        "    sentence_batch.append(torch.LongTensor(sentence))\n",
        "\n",
        "    if (i + 1) % batch_size == 0:\n",
        "      # Pad batchs of size batch_size\n",
        "      kw_batch = torch.nn.utils.rnn.pad_sequence(kw_batch, batch_first=True)\n",
        "      kw_pos_batch = torch.nn.utils.rnn.pad_sequence(kw_pos_batch, batch_first=True)\n",
        "      template_batch = torch.nn.utils.rnn.pad_sequence(template_batch, batch_first=True)\n",
        "      sentence_batch = torch.nn.utils.rnn.pad_sequence(sentence_batch, batch_first=True)\n",
        "\n",
        "      data_batches.append((kw_batch, kw_pos_batch, (template_batch, template_len), sentence_batch))\n",
        "      \n",
        "      # Reinitialize the batches\n",
        "      kw_batch = []\n",
        "      kw_pos_batch = []\n",
        "      template_batch = []\n",
        "      template_len = []\n",
        "      sentence_batch = []\n",
        "      label_batch = []\n",
        "    \n",
        "  return data_batches"
      ],
      "execution_count": null,
      "outputs": []
    },
    {
      "cell_type": "code",
      "metadata": {
        "id": "uw3uIXGWnkqN"
      },
      "source": [
        "training_data = create_batches(training_data)\n",
        "validation_data = create_batches(validation_data)\n",
        "test_data = create_batches(test_data)"
      ],
      "execution_count": null,
      "outputs": []
    },
    {
      "cell_type": "markdown",
      "metadata": {
        "id": "KmmG1FQYixlN"
      },
      "source": [
        "# **Model Architecture**"
      ]
    },
    {
      "cell_type": "code",
      "metadata": {
        "id": "RHxDjQLkuM8u"
      },
      "source": [
        "class Generator(nn.Module):\n",
        "  def __init__(self, w_embed_dim=500, tag_embed_dim=len(vocab.tag2id)):\n",
        "    super(Generator, self).__init__()\n",
        "    # Embedding layer for words (shared between keywords and sentences)\n",
        "    self.word_embed = nn.Embedding(num_embeddings=vocab.n_words, embedding_dim=w_embed_dim, padding_idx=0)\n",
        "    # Embedding layer for pos tags (shared between keyword tags and templates)\n",
        "    self.tag_embed = nn.Embedding(num_embeddings=tag_embed_dim, embedding_dim=tag_embed_dim, padding_idx=0)\n",
        "    # Dropout layer for keyword embedding\n",
        "    self.dropout = nn.Dropout(p=0.5)\n",
        "    \n",
        "    # Keyword encoder\n",
        "    self.kw_encoder = FFNN(w_embed_dim)\n",
        "    # Template encoder\n",
        "    self.template_encoder = TemplateEncoder(tag_embed_dim, n_layers=4)\n",
        "    # Max Tag Overlap (template and keyword tag matching)\n",
        "    self.mto = MTO(1)\n",
        "    # Attention layer\n",
        "    self.attn = Attention()\n",
        "    # Decoder\n",
        "    self.decoder = Decoder(h_size=w_embed_dim, n_layers=4)\n",
        "\n",
        "\n",
        "  def forward(self, kw, kw_pos, template_pack, sentence, tr_ratio=0.5):    \n",
        "    # Keyword encoder\n",
        "    kw_embed = self.dropout(self.word_embed(kw))\n",
        "    encoded_kw = self.kw_encoder(kw_embed)\n",
        "\n",
        "    # Template encoder\n",
        "    template, template_len = template_pack\n",
        "    template_embed = self.tag_embed(template)\n",
        "    packed_template = torch.nn.utils.rnn.pack_padded_sequence(template_embed, template_len, \n",
        "                                                              batch_first=True, enforce_sorted=False)\n",
        "    outputs, last_hidden = self.template_encoder(packed_template)\n",
        "    # Embed keyword pos tags\n",
        "    kw_pos_embed = self.tag_embed(kw_pos)\n",
        "\n",
        "    # Get lambda weights from Max Tag Overlap\n",
        "    lambdas, lambdas_c = self.mto(template_embed, kw_pos_embed)\n",
        "\n",
        "    # Embed sentence\n",
        "    sentence_embed = self.word_embed(sentence)\n",
        "\n",
        "    # First input is the <sos> token\n",
        "    input = sentence_embed[:, 0, :].unsqueeze(1)\n",
        "\n",
        "    # Initialize hidden layer for decoder\n",
        "    hidden = torch.zeros(4, sentence.size(0), 500).cuda() \n",
        "\n",
        "    # Initialize mask to ignore padded values in attention mechanism \n",
        "    mask = torch.any((kw_embed != 0), dim=2).cuda()\n",
        "\n",
        "    # List to store predictions\n",
        "    preds = []\n",
        "    for t in range(1, sentence_embed.size(1)):\n",
        "      # Use attention to calculate context vector\n",
        "      a = self.attn(outputs[:,t,:], last_hidden, encoded_kw, mask)\n",
        "      context = torch.bmm(a.unsqueeze(1), encoded_kw)\n",
        "      # Multiply this time step's context by its weight lambda\n",
        "      context *= lambdas[:,t,:].unsqueeze(1)\n",
        "      # Multiply this time step's template encoding by its weight lambda c (1 minus lambda)\n",
        "      htt =  outputs[:,t,:].unsqueeze(1) * lambdas_c[:,t,:].unsqueeze(1)\n",
        "      # mt is tanh of the concatenation of context and current time step's encoded template\n",
        "      mt = torch.tanh(torch.cat((context, htt), dim=2))\n",
        "      # Input to the decoder is the concatenation of mt and the embedding of a word from current time step t\n",
        "      decoder_input = torch.cat((input, mt), dim=2)\n",
        "      # Decode\n",
        "      pred, hidden, last_hidden = self.decoder(decoder_input, hidden)\n",
        "      # Store the prediction\n",
        "      preds.append(pred)\n",
        "      # Calculate next input, unless it's the last iteration\n",
        "      if t < sentence_embed.size(1) - 1:\n",
        "        # Teacher force mechanism (If true, feed next layer with ground truth)\n",
        "        teacher_force = torch.rand(1).item() < tr_ratio\n",
        "        # The last prediction with the highest probability\n",
        "        last_pred = torch.argmax(pred, dim = 1).cuda()\n",
        "        # If teacher_force is true, use ground truth, else the last prediction\n",
        "        input = sentence_embed[:, t, :].unsqueeze(1) if teacher_force else self.word_embed(last_pred.unsqueeze(1))\n",
        "    \n",
        "    return torch.stack(preds, dim=1)"
      ],
      "execution_count": null,
      "outputs": []
    },
    {
      "cell_type": "code",
      "metadata": {
        "id": "-J8JtGA6jqB3"
      },
      "source": [
        "# Keyword encoder - Fully connected neural network\n",
        "class FFNN(nn.Module):\n",
        "  def __init__(self, h_dim):\n",
        "    super(FFNN, self).__init__()\n",
        "    self.fc1 = nn.Linear(h_dim, h_dim)\n",
        "    self.lrelu1 = nn.LeakyReLU(0.01)\n",
        "    self.fc2 = nn.Linear(h_dim, h_dim)\n",
        "    self.lrelu2 = nn.LeakyReLU(0.01)\n",
        "    self.fc3 = nn.Linear(h_dim, h_dim)\n",
        "  \n",
        "  \n",
        "  def forward(self, x):\n",
        "    x = self.lrelu1(self.fc1(x))\n",
        "    x = self.lrelu2(self.fc2(x))\n",
        "    x = torch.tanh(self.fc3(x))\n",
        "    return x"
      ],
      "execution_count": null,
      "outputs": []
    },
    {
      "cell_type": "code",
      "metadata": {
        "id": "-X3TCtqgSYWM"
      },
      "source": [
        "# Template encoder - stack of bidirectional GRU's\n",
        "class TemplateEncoder(nn.Module):\n",
        "  def __init__(self, input_dim, h_size=100, n_layers=4):\n",
        "    super(TemplateEncoder, self).__init__()\n",
        "    self.gru = nn.GRU(input_size=input_dim, hidden_size=h_size, num_layers=n_layers, batch_first=True, \n",
        "                      dropout=0.5, bidirectional=True)\n",
        "    self.fc = nn.Linear(2*h_size, 2*h_size)\n",
        "  \n",
        "  def forward(self, x):\n",
        "    outputs, hidden = self.gru(x)\n",
        "    outputs, _ = torch.nn.utils.rnn.pad_packed_sequence(outputs, batch_first=True)\n",
        "    hidden = torch.tanh(self.fc(torch.cat((hidden[-2], hidden[-1]), dim=1)))\n",
        "\n",
        "    return outputs, hidden"
      ],
      "execution_count": null,
      "outputs": []
    },
    {
      "cell_type": "code",
      "metadata": {
        "id": "THJJzVGi7GOC"
      },
      "source": [
        "# Template and keyword tag matching (Max Tag Overlap)\n",
        "class MTO(nn.Module):\n",
        "  def __init__(self, input_size):\n",
        "    super(MTO, self).__init__()\n",
        "    self.fc = nn.Linear(input_size, input_size)\n",
        "\n",
        "  def forward(self, template_embed, kw_pos_embed):\n",
        "    # Calculate s - the max cosine similarity between each template tag and keyword tag\n",
        "    s_batch = []\n",
        "    for template_tags, keyword_tags in zip(template_embed, kw_pos_embed):\n",
        "      s = []\n",
        "      for t_pos in template_tags:\n",
        "        s.append(torch.max(F.cosine_similarity(keyword_tags, t_pos.unsqueeze(0))).item())\n",
        "      s_batch.append(torch.tensor(s))\n",
        "\n",
        "    s_batch = torch.stack(s_batch).unsqueeze(2)\n",
        "    s_batch = s_batch.cuda()\n",
        "\n",
        "    # Lambdas are weights which are equal to s going into a sigmoid on top of a linear layer \n",
        "    lambdas = torch.sigmoid(self.fc(s_batch))\n",
        "    # Lambda_c is 1-lambda for each weight lambda in lambdas\n",
        "    lambdas_c = torch.add(torch.multiply(lambdas, -1), 1)\n",
        "\n",
        "    return lambdas, lambdas_c"
      ],
      "execution_count": null,
      "outputs": []
    },
    {
      "cell_type": "code",
      "metadata": {
        "id": "s5tDnIYxxp4y"
      },
      "source": [
        "# Attention layer (additive attention)\n",
        "class Attention(nn.Module):\n",
        "  def __init__(self):\n",
        "    super(Attention, self).__init__()\n",
        "    self.w = torch.nn.Linear(900, 500)\n",
        "    self.v = nn.Linear(500, 1, bias=False)\n",
        "\n",
        "  def forward(self, enc_template_o, hidden, encoded_kw, mask):\n",
        "    # Unsqueeze for repeat\n",
        "    hidden = hidden.unsqueeze(1)\n",
        "    enc_template_o = enc_template_o.unsqueeze(1)\n",
        "    # Repeat for stacking\n",
        "    hidden = hidden.repeat(1, encoded_kw.size(1), 1)\n",
        "    enc_template_o = enc_template_o.repeat(1, encoded_kw.size(1), 1)\n",
        "    # Conatenate last hidden layer, the encoded keywords and the encoded template\n",
        "    energy = torch.tanh(self.w(torch.cat((hidden, encoded_kw, enc_template_o), dim=2)))\n",
        "    # Calculate score\n",
        "    attention = self.v(energy).squeeze(2)\n",
        "    # Mask\n",
        "    attention = attention.masked_fill(mask == 0, -1e10)\n",
        "\n",
        "    return F.softmax(attention, dim=1)"
      ],
      "execution_count": null,
      "outputs": []
    },
    {
      "cell_type": "code",
      "metadata": {
        "id": "hmMFzdn85fjS"
      },
      "source": [
        "# Decoder\n",
        "class Decoder(nn.Module):\n",
        "  def __init__(self, h_size=500, n_layers=4):\n",
        "    super(Decoder, self).__init__()\n",
        "    self.gru = nn.GRU(input_size=1200, hidden_size=500, num_layers=n_layers, batch_first=True, \n",
        "                      dropout=0.5, bidirectional=False)\n",
        "    self.fc = nn.Linear(1000, 200)\n",
        "    self.fc_out = nn.Linear(1700, vocab.n_words)\n",
        "\n",
        "  def forward(self, gru_input, hidden_input):\n",
        "    outputs, hidden = self.gru(gru_input, hidden_input)\n",
        "    # Last hidden layers for attention\n",
        "    last_hidden = torch.tanh(self.fc(torch.cat((hidden[-2], hidden[-1]), dim=1)))\n",
        "    prediction = self.fc_out(torch.cat((outputs.squeeze(1), gru_input.squeeze(1)), dim=1))\n",
        "    return prediction, hidden, last_hidden"
      ],
      "execution_count": null,
      "outputs": []
    },
    {
      "cell_type": "code",
      "metadata": {
        "id": "98kHHxSY7ctJ"
      },
      "source": [
        "random.shuffle(training_data)"
      ],
      "execution_count": null,
      "outputs": []
    },
    {
      "cell_type": "markdown",
      "metadata": {
        "id": "xrJgLnPZfMos"
      },
      "source": [
        "# **Training**"
      ]
    },
    {
      "cell_type": "code",
      "metadata": {
        "id": "oNmOGfmWfQey"
      },
      "source": [
        "# Initialize the model\n",
        "model = Generator().cuda()\n",
        "\n",
        "# Loss function\n",
        "criterion = torch.nn.CrossEntropyLoss()\n",
        "\n",
        "# Optimizer\n",
        "optimizer = torch.optim.Adam(model.parameters(), lr=0.00001)\n",
        "\n",
        "# Step learning rate scheduler\n",
        "scheduler = torch.optim.lr_scheduler.ReduceLROnPlateau(optimizer, factor=0.1, patience=2)\n",
        "\n",
        "# Initialize epoch loss list for checkpoint system\n",
        "epoch_loss = []\n",
        "\n",
        "# Initialize epoch to 0 for checkpoint system\n",
        "epoch = 0"
      ],
      "execution_count": null,
      "outputs": []
    },
    {
      "cell_type": "code",
      "metadata": {
        "id": "dmWJs3kdpeF5"
      },
      "source": [
        "# Load model checkpoint\n",
        "checkpoint = torch.load('model_checkpoint')\n",
        "model.load_state_dict(checkpoint['model_state_dict'])\n",
        "optimizer.load_state_dict(checkpoint['optimizer_state_dict'])\n",
        "scheduler.load_state_dict(checkpoint['scheduler_state_dict'])\n",
        "epoch_loss = checkpoint['epoch_loss']\n",
        "epoch = checkpoint['epoch']"
      ],
      "execution_count": null,
      "outputs": []
    },
    {
      "cell_type": "code",
      "metadata": {
        "id": "pxH8PsvCpeF5",
        "outputId": "a4ff2af7-b5f1-4acf-b937-3df3f2ec9125"
      },
      "source": [
        "print(epoch)"
      ],
      "execution_count": null,
      "outputs": [
        {
          "name": "stdout",
          "output_type": "stream",
          "text": [
            "40\n"
          ]
        }
      ]
    },
    {
      "cell_type": "markdown",
      "metadata": {
        "id": "ZsLHuQ2H3bW5"
      },
      "source": [
        "Evaluation function for validation"
      ]
    },
    {
      "cell_type": "code",
      "metadata": {
        "id": "vPLyYv-93nY3"
      },
      "source": [
        "def evaluate(model, valid_set, criterion):\n",
        "  # Change model to evaluation mode\n",
        "  model.eval()\n",
        "  \n",
        "  epoch_loss = 0\n",
        "\n",
        "  with torch.no_grad():\n",
        "    for i, (kw, kw_pos, (template, template_len), sentence) in enumerate(valid_set, 1):\n",
        "      kw = kw.cuda()\n",
        "      kw_pos = kw_pos.cuda()\n",
        "      template = template.cuda()\n",
        "      sentence = sentence.cuda()\n",
        "\n",
        "      output = model(kw, kw_pos, (template, template_len), sentence, 0)\n",
        "      loss = criterion(output.reshape(-1, output.shape[-1]), sentence[:, 1:].reshape(-1))\n",
        "\n",
        "      epoch_loss += loss.item()\n",
        "  \n",
        "  return epoch_loss / len(valid_set)"
      ],
      "execution_count": null,
      "outputs": []
    },
    {
      "cell_type": "markdown",
      "metadata": {
        "id": "x4Eet5iX3oRB"
      },
      "source": [
        "Training loop"
      ]
    },
    {
      "cell_type": "code",
      "metadata": {
        "id": "YnzP5gid0Srn"
      },
      "source": [
        "# Training loop\n",
        "def train_loop(model, n_epochs, train_set, valid_set, tr_ratio):\n",
        "  for e in range(1, n_epochs + 1):\n",
        "    # Activate model training mode\n",
        "    model.train()\n",
        "    # Reset epoch loss\n",
        "    t_epoch_loss = 0\n",
        "\n",
        "    for i, (kw, kw_pos, (template, template_len), sentence) in enumerate(train_set, 1):\n",
        "      kw = kw.cuda()\n",
        "      kw_pos = kw_pos.cuda()\n",
        "      template = template.cuda()\n",
        "      sentence = sentence.cuda()\n",
        "\n",
        "      optimizer.zero_grad()\n",
        "      output = model(kw, kw_pos, (template, template_len), sentence, tr_ratio)\n",
        "      loss = criterion(output.reshape(-1, output.shape[-1]), sentence[:, 1:].reshape(-1))\n",
        "      loss.backward()\n",
        "      torch.nn.utils.clip_grad_norm_(model.parameters(), 1)\n",
        "      optimizer.step()\n",
        "      t_epoch_loss += loss.item()\n",
        "\n",
        "    # Calculate training and validation loss\n",
        "    v_epoch_loss = evaluate(model, valid_set, criterion)\n",
        "    t_epoch_loss /= len(train_set)\n",
        "    # Print training and validation epoch loss\n",
        "    print(f\"Epoch {e+epoch} train loss: {t_epoch_loss}\")\n",
        "    print(f\"Epoch {e+epoch} validation loss: {v_epoch_loss}\")\n",
        "    # Save epoch loss\n",
        "    epoch_loss.append((t_epoch_loss, v_epoch_loss))\n",
        "    # Learning rate scheduler step\n",
        "    scheduler.step(v_epoch_loss)\n",
        "    # Save model every epoch\n",
        "    torch.save({\n",
        "            'epoch': e+epoch,\n",
        "            'model_state_dict': model.state_dict(),\n",
        "            'optimizer_state_dict': optimizer.state_dict(),\n",
        "            'scheduler_state_dict': scheduler.state_dict(),\n",
        "            'epoch_loss': epoch_loss\n",
        "            }, \"model_checkpoint\")\n",
        "    # shuffle data\n",
        "    random.shuffle(train_set)"
      ],
      "execution_count": null,
      "outputs": []
    },
    {
      "cell_type": "code",
      "metadata": {
        "id": "ggXYsco21OfX"
      },
      "source": [
        "train_loop(model, 40, training_data, validation_data, 0.5)"
      ],
      "execution_count": null,
      "outputs": []
    },
    {
      "cell_type": "markdown",
      "metadata": {
        "id": "8-cw14i7uOZR"
      },
      "source": [
        "# **Evaluation**"
      ]
    },
    {
      "cell_type": "code",
      "metadata": {
        "id": "mpWAwoyh7ctT"
      },
      "source": [
        "# Plot train_loss and test_loss as functions of epoch\n",
        "def plot_loss(train_loss, val_loss, setup_num):\n",
        "  plt.plot(list(range(1,len(train_loss)+1)), train_loss, 'b', label='train set loss')\n",
        "  plt.plot(list(range(1,len(val_loss)+1)), val_loss, 'r', label='validation set loss')\n",
        "  plt.legend(loc=\"upper right\")\n",
        "  plt.xlabel('Epoch')\n",
        "  plt.ylabel('Loss')\n",
        "  plt.title(f'Training loss and validation loss as function of epoch, setup {setup_num}')\n",
        "  plt.show()"
      ],
      "execution_count": null,
      "outputs": []
    },
    {
      "cell_type": "code",
      "metadata": {
        "id": "ErSrosgT7ctU"
      },
      "source": [
        "# Function for extracting training and validation loss from text file\n",
        "def extract_loss(path):\n",
        "   train_loss = []\n",
        "   val_loss = []\n",
        "   with open(path) as f:\n",
        "      loss_list = list(f)\n",
        "      for line in loss_list:\n",
        "         line = line.split()\n",
        "         train_loss.append(float(line[0]))\n",
        "         val_loss.append(float(line[1]))\n",
        "   return train_loss, val_loss"
      ],
      "execution_count": null,
      "outputs": []
    },
    {
      "cell_type": "code",
      "metadata": {
        "id": "5m4EMI7T7ctU",
        "outputId": "86104dd1-6aa3-476a-99bf-2a9fbea726f0"
      },
      "source": [
        "for i in range(1, 6):\n",
        "   train_loss, val_loss = extract_loss(f\"epoch_loss_{i}.txt\")\n",
        "   plot_loss(train_loss, val_loss, i)"
      ],
      "execution_count": null,
      "outputs": [
        {
          "data": {
            "image/png": "[encoded data removed]",
            "text/plain": [
              "<Figure size 432x288 with 1 Axes>"
            ]
          },
          "metadata": {
            "needs_background": "light"
          },
          "output_type": "display_data"
        },
        {
          "data": {
            "image/png": "[encoded data removed]",
            "text/plain": [
              "<Figure size 432x288 with 1 Axes>"
            ]
          },
          "metadata": {
            "needs_background": "light"
          },
          "output_type": "display_data"
        },
        {
          "data": {
            "image/png": "[encoded data removed]",
            "text/plain": [
              "<Figure size 432x288 with 1 Axes>"
            ]
          },
          "metadata": {
            "needs_background": "light"
          },
          "output_type": "display_data"
        },
        {
          "data": {
            "image/png": "[encoded data removed]",
            "text/plain": [
              "<Figure size 432x288 with 1 Axes>"
            ]
          },
          "metadata": {
            "needs_background": "light"
          },
          "output_type": "display_data"
        },
        {
          "data": {
            "image/png": "[encoded data removed]",
            "text/plain": [
              "<Figure size 432x288 with 1 Axes>"
            ]
          },
          "metadata": {
            "needs_background": "light"
          },
          "output_type": "display_data"
        }
      ]
    },
    {
      "cell_type": "code",
      "metadata": {
        "id": "lrB6bOtl7ctU"
      },
      "source": [
        "import nltk\n",
        "from nltk.translate.bleu_score import sentence_bleu\n",
        "from nltk.translate.bleu_score import corpus_bleu"
      ],
      "execution_count": null,
      "outputs": []
    },
    {
      "cell_type": "code",
      "metadata": {
        "id": "6sTzJbqJuS_0"
      },
      "source": [
        "# Function for generating text using the model\n",
        "def gen_text(input):\n",
        "  model.eval()\n",
        "  kw, kw_pos, (template, template_len), sentence = input\n",
        "  kw = kw.cuda()\n",
        "  kw_pos = kw_pos.cuda()\n",
        "  template = template.cuda()\n",
        "  sentence = sentence.cuda()\n",
        "\n",
        "  output = model(kw, kw_pos, (template, template_len), sentence, 0)\n",
        "  predictions = torch.argmax(output, dim = 2)\n",
        "  predictions = predictions.tolist()\n",
        "  predictions = [[vocab.id2word[word] for word in sentence] for sentence in predictions]\n",
        "  return predictions"
      ],
      "execution_count": null,
      "outputs": []
    },
    {
      "cell_type": "code",
      "metadata": {
        "id": "bHgJDvIq7ctU"
      },
      "source": [
        "from torchtext.data.metrics import bleu_score\n",
        "def bleu(data):\n",
        "   bleu_score = []\n",
        "\n",
        "   for batch in data:\n",
        "      batch_bleu = []\n",
        "      predictions = gen_text(batch)\n",
        "      labels = [[vocab.id2word[word] for word in sentence] for sentence in batch[3].tolist()]\n",
        "      labels = [label[1:] for label in labels]\n",
        "      labels_len = [label.index('__pad__') if '__pad__' in label else len(label) for label in labels]\n",
        "      for i, (prediction, label) in enumerate(zip(predictions, labels)):\n",
        "         batch_bleu.append(sentence_bleu([label[:labels_len[i]]], prediction[:labels_len[i]]))\n",
        "      bleu_score.append(sum(batch_bleu) / len(batch_bleu))      \n",
        "      \n",
        "   bleu_score = sum(bleu_score) / len(data)\n",
        "   return bleu_score"
      ],
      "execution_count": null,
      "outputs": []
    },
    {
      "cell_type": "code",
      "metadata": {
        "id": "ShB2ajve7ctU"
      },
      "source": [
        "# batch 385 is bugged for some reason and batch 1 contains sentences too short for bleu evaluation\n",
        "bleu_score = bleu(test_data[1:384] + test_data[386:])"
      ],
      "execution_count": null,
      "outputs": []
    },
    {
      "cell_type": "code",
      "metadata": {
        "id": "DrakmW727ctV",
        "outputId": "091c903a-c39d-4e9f-9753-a6dd9a7a215e"
      },
      "source": [
        "print(bleu_score)"
      ],
      "execution_count": null,
      "outputs": [
        {
          "name": "stdout",
          "output_type": "stream",
          "text": [
            "0.3470001697081127\n"
          ]
        }
      ]
    }
  ]
}